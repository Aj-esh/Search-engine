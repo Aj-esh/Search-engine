{
 "cells": [
  {
   "cell_type": "code",
   "execution_count": 1,
   "metadata": {},
   "outputs": [],
   "source": [
    "from openai import OpenAI"
   ]
  },
  {
   "cell_type": "code",
   "execution_count": 2,
   "metadata": {},
   "outputs": [],
   "source": [
    "hermes = OpenAI(\n",
    "    base_url=\"https://openrouter.ai/api/v1\",\n",
    "    api_key=\"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\"\n",
    ")"
   ]
  },
  {
   "cell_type": "code",
   "execution_count": 3,
   "metadata": {},
   "outputs": [],
   "source": [
    "# query here\n",
    "query = \"Tell me a short story about a cat in 700 words.\""
   ]
  },
  {
   "cell_type": "code",
   "execution_count": 4,
   "metadata": {},
   "outputs": [
    {
     "name": "stdout",
     "output_type": "stream",
     "text": [
      "Once upon a time, in a quaint little village, there lived a cat named Whiskers. Whiskers was no ordinary cat; she was unique in every way. She was striped just like a tiger, had the grace of a ballet dancer, and had a heart full of love and affection.\n",
      "\n",
      "Whiskers lived with her owner, a kind old lady named Mrs. Smith. Mrs. Smith loved her cat more than anything else in the world. She would feed her, play with her, and cuddle her whenever she got the chance. Whiskers' favorite pastime was napping under the warm sun on Mrs. Smith's lap. She would purr softly, the gentle humming of her voice filling the entire house with warmth and love.\n",
      "\n",
      "One day, as Whiskers was napping, Mrs. Smith heard a knock at the door. Curious as to who it could be, she got up to answer it. As she opened the door, she saw a lovely young woman with a small box in her hands. Mrs. Smith welcomed the young woman into her house and offered her a seat. The young woman introduced herself as Mrs. Brown and said that she had recently moved into the village. She had heard of Mrs. Smith's kindness and wanted to meet her. Mrs. Smith ushered the young woman in and offered her a warm cup of tea.\n",
      "\n",
      "As they chatted, Mrs. Brown mentioned that she had also adopted a cat of her own. Mrs. Smith, overjoyed at the prospect of another cat in the village, said that she must bring her cat over so that they could meet. Mrs. Brown agreed and said she would bring her cat over the next day.\n",
      "\n",
      "The next day arrived, and Mrs. Brown brought her cat, a beautiful feline named Midnight. Mrs. Smith had never seen a cat like Midnight before. She was all black in color, beautiful, and seemed to have a gentle and kind touch. Mrs. Smith and Mrs. Brown chatted as the cats played together in the living room. Whiskers and Midnight became instant friends and spent the entire time playing.\n",
      "\n",
      "As the day drew to an end, Mrs. Smith saw a look of sadness on Mrs. Brown's face. When asked about it, Mrs. Brown revealed that her husband had passed away just a few months ago, and she was still trying to cope with the loss. Mrs. Smith took her hand and said something that would change both their lives forever. \"You are not alone, dear. We are here for you.\"\n",
      "\n",
      "From that day onward, Mrs. Smith and Mrs. Brown became the best of friends. They would meet every day to chat and spend time with their cats. Whiskers and Midnight became inseparable, and their love for each other grew by the day.\n",
      "\n",
      "As time passed, Mrs. Brown and Mrs. Smith realized that they were falling in love with each other. They eventually decided to tie the knot and spend the rest of their lives together. Their beautiful cats, Whiskers and Midnight, were at the center of their happiness and love.\n",
      "\n",
      "And so the story of Whiskers the cat, and her journey of finding true love and happiness, ended. She lived a long and happy life, filled with love and warmth, in a home surrounded by those who loved her.\n"
     ]
    }
   ],
   "source": [
    "response_stream = hermes.chat.completions.create(\n",
    "    model=\"nousresearch/deephermes-3-llama-3-8b-preview:free\",\n",
    "    messages=[\n",
    "        {\"role\": \"user\", \"content\": query}\n",
    "    ],\n",
    "    temperature=0.9,\n",
    "    stream=True \n",
    ")\n",
    "\n",
    "for chunk in response_stream:\n",
    "    if chunk.choices:\n",
    "        delta = chunk.choices[0].delta.content or \"\"\n",
    "        print(delta, end=\"\", flush=True)\n",
    "print()"
   ]
  },
  {
   "cell_type": "code",
   "execution_count": null,
   "metadata": {},
   "outputs": [],
   "source": []
  }
 ],
 "metadata": {
  "kernelspec": {
   "display_name": "Python 3",
   "language": "python",
   "name": "python3"
  },
  "language_info": {
   "codemirror_mode": {
    "name": "ipython",
    "version": 3
   },
   "file_extension": ".py",
   "mimetype": "text/x-python",
   "name": "python",
   "nbconvert_exporter": "python",
   "pygments_lexer": "ipython3",
   "version": "3.12.1"
  }
 },
 "nbformat": 4,
 "nbformat_minor": 2
}
