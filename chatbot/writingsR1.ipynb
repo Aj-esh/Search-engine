{
 "cells": [
  {
   "cell_type": "code",
   "execution_count": 1,
   "metadata": {},
   "outputs": [],
   "source": [
    "from openai import OpenAI"
   ]
  },
  {
   "cell_type": "code",
   "execution_count": 2,
   "metadata": {},
   "outputs": [],
   "source": [
    "hermes = OpenAI(\n",
    "    base_url=\"https://openrouter.ai/api/v1\",\n",
    "    api_key=\"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\"\n",
    ")"
   ]
  },
  {
   "cell_type": "code",
   "execution_count": 3,
   "metadata": {},
   "outputs": [],
   "source": [
    "# query here\n",
    "query = \"Tell me a short story about a cat. in 700 words\""
   ]
  },
  {
   "cell_type": "code",
   "execution_count": 6,
   "metadata": {},
   "outputs": [
    {
     "name": "stdout",
     "output_type": "stream",
     "text": [
      "**Title: *The Cat with Emerald Eyes***  \n",
      "\n",
      "In a quiet villa\n"
     ]
    }
   ],
   "source": [
    "response_stream = hermes.chat.completions.create(\n",
    "    model=\"deepseek/deepseek-r1:free\",\n",
    "    messages=[\n",
    "        {\"role\": \"user\", \"content\": query}\n",
    "    ],\n",
    "    temperature=0.9,\n",
    "    stream=True \n",
    ")\n",
    "\n",
    "for chunk in response_stream:\n",
    "    if chunk.choices:\n",
    "        delta = chunk.choices[0].delta.content or \"\"\n",
    "        print(delta, end=\"\", flush=True)\n",
    "print()"
   ]
  },
  {
   "cell_type": "code",
   "execution_count": null,
   "metadata": {},
   "outputs": [],
   "source": []
  }
 ],
 "metadata": {
  "kernelspec": {
   "display_name": "Python 3",
   "language": "python",
   "name": "python3"
  },
  "language_info": {
   "codemirror_mode": {
    "name": "ipython",
    "version": 3
   },
   "file_extension": ".py",
   "mimetype": "text/x-python",
   "name": "python",
   "nbconvert_exporter": "python",
   "pygments_lexer": "ipython3",
   "version": "3.12.1"
  }
 },
 "nbformat": 4,
 "nbformat_minor": 2
}
